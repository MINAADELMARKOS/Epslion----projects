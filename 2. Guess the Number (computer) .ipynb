{
 "cells": [
  {
   "cell_type": "code",
   "execution_count": null,
   "id": "abc3a065",
   "metadata": {},
   "outputs": [],
   "source": [
    "import random\n",
    "random_number=random.randint(1,26)\n",
    "guess=int(input(f\"Please input your num Bet 1---26 : \"))\n",
    "while guess!=random_number:\n",
    "    if guess < random_number:\n",
    "        print(\"Your Number is Low , Try Again :\")\n",
    "        guess=int(input(f\"Please Another High Number : \"))\n",
    "    elif guess > random_number:\n",
    "        print(\"Your Number is High , Try Again :\")\n",
    "        guess=int(input(f\"Please Another Low Number : \"))\n",
    "        \n",
    "        \n",
    "        \n",
    "print(\"CONGRATULATION \\n  YOU ARE CORRECT \")"
   ]
  },
  {
   "cell_type": "code",
   "execution_count": null,
   "id": "9fc4ea78",
   "metadata": {},
   "outputs": [],
   "source": []
  }
 ],
 "metadata": {
  "kernelspec": {
   "display_name": "Python 3 (ipykernel)",
   "language": "python",
   "name": "python3"
  },
  "language_info": {
   "codemirror_mode": {
    "name": "ipython",
    "version": 3
   },
   "file_extension": ".py",
   "mimetype": "text/x-python",
   "name": "python",
   "nbconvert_exporter": "python",
   "pygments_lexer": "ipython3",
   "version": "3.9.7"
  }
 },
 "nbformat": 4,
 "nbformat_minor": 5
}
