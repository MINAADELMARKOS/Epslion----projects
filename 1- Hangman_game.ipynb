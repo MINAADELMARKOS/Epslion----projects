{
 "cells": [
  {
   "cell_type": "markdown",
   "metadata": {
    "id": "st_5Ic9k9oZa"
   },
   "source": [
    "## Description\n",
    "> ##### The Hangman program randomly selects a secret word from a list of secret words.\n",
    "> ##### The Game: Here, a random word (a fruit name) is picked up from our collection and the player gets limited chances to win the game.\n",
    "> ##### When a letter in that word is guessed correctly, that letter position in the word is made visible. In this way,all letters of the word are to be guessed before all the chances are over.\n",
    "> ##### For convenience, we have given length of word + 2 chances. For example, word to be guessed is mango, then user gets 5 + 2 = 7 chances, as mango is a five letter word."
   ]
  },
  {
   "cell_type": "code",
   "execution_count": null,
   "metadata": {
    "id": "9bCd5ppaJxnz"
   },
   "outputs": [
    {
     "name": "stdout",
     "output_type": "stream",
     "text": [
      "Guess This Word : Hint ==> Words are Jobs of data \n",
      "_ _ _ _ _ _ _ _ _ _ _ _ _ _ _ _ _\n",
      "Remember ==> you have 13 chances\n",
      "Input guess letter : d\n",
      "you guessed wrong you have 12 chance\n",
      "Input guess letter : a\n",
      "_ a _ _ _ _ _ _ _ _ a _ a _ _ _ _\n",
      "Input guess letter : n\n",
      "_ a _ _ _ _ _ n _ _ a n a _ _ _ _\n",
      "Input guess letter : l\n",
      "_ a _ _ _ _ _ n _ _ a n a l _ _ _\n",
      "Input guess letter : g\n",
      "_ a _ _ _ _ _ n g _ a n a l _ _ _\n",
      "Input guess letter : m\n",
      "m a _ _ _ _ _ n g _ a n a l _ _ _\n",
      "Input guess letter : r\n",
      "m a r _ _ _ _ n g _ a n a l _ _ _\n",
      "Input guess letter : k\n",
      "m a r k _ _ _ n g _ a n a l _ _ _\n",
      "Input guess letter : t\n",
      "m a r k _ t _ n g _ a n a l _ _ t\n",
      "Input guess letter : i\n",
      "m a r k _ t i n g _ a n a l _ _ t\n",
      "Input guess letter : g\n",
      "this word gussed before\n",
      "Input guess letter : e\n",
      "m a r k e t i n g _ a n a l _ _ t\n",
      "Input guess letter : y\n",
      "m a r k e t i n g _ a n a l y _ t\n",
      "Input guess letter : c\n",
      "you guessed wrong you have 11 chance\n"
     ]
    }
   ],
   "source": [
    "import random\n",
    "jobs_offer=[\"data analyst\",\"data scientist\",\"ml eng\",\"bi analyst\",\"log analyst\",\"data architect\",\"marketing analyst\"]\n",
    "print(\"Guess This Word : Hint ==> Words are Jobs of data \")\n",
    "\n",
    "while True:\n",
    "  word=random.choice(jobs_offer)\n",
    "  pass_len=list(\"_\"*len(word))\n",
    "  print(\" \".join(pass_len))\n",
    "  chances=len(word)-4\n",
    "  print(f\"Remember ==> you have { chances} chances\")\n",
    "\n",
    "  while (chances>0):\n",
    "    guess=input(\"Input guess letter : \")\n",
    "\n",
    "    if not guess.isalpha():\n",
    "      print(\" write letter only\")\n",
    "\n",
    "    elif len(guess)>1:\n",
    "      print(\"one chracter\")\n",
    "\n",
    "    elif guess in pass_len:\n",
    "      print(\"this word gussed before\")\n",
    "\n",
    "    elif guess in word:\n",
    "      for i,chrac in enumerate(word):\n",
    "        if guess==chrac:\n",
    "          pass_len[i]=chrac\n",
    "      print(\" \".join(pass_len))\n",
    "    else:\n",
    "       chances-=1\n",
    "       print(f\"you guessed wrong you have {chances} chance\")   \n",
    "    if \"\".join(pass_len) == word:\n",
    "      print(\"congratulation\")\n",
    "      break\n",
    "\n",
    "    if chances <= 0:\n",
    "      print(\"you are loser\")  \n",
    "\n",
    "  player_confirm=input(\"You Want play again: (y/n)\")\n",
    "  if player_confirm in [\"n\",\"N\"]:\n",
    "    break"
   ]
  },
  {
   "cell_type": "code",
   "execution_count": null,
   "metadata": {},
   "outputs": [],
   "source": []
  },
  {
   "cell_type": "code",
   "execution_count": null,
   "metadata": {},
   "outputs": [],
   "source": []
  }
 ],
 "metadata": {
  "colab": {
   "name": "Hangman_game_template.ipynb",
   "provenance": []
  },
  "kernelspec": {
   "display_name": "Python 3 (ipykernel)",
   "language": "python",
   "name": "python3"
  },
  "language_info": {
   "codemirror_mode": {
    "name": "ipython",
    "version": 3
   },
   "file_extension": ".py",
   "mimetype": "text/x-python",
   "name": "python",
   "nbconvert_exporter": "python",
   "pygments_lexer": "ipython3",
   "version": "3.9.7"
  }
 },
 "nbformat": 4,
 "nbformat_minor": 1
}
