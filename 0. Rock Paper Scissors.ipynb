{
 "cells": [
  {
   "cell_type": "code",
   "execution_count": null,
   "id": "4e362d1b",
   "metadata": {},
   "outputs": [],
   "source": [
    "#import useful packages and print rules of game\n",
    "\n",
    "import random\n",
    "print(\"--THis is The Game Rules: \\n Rock Vs Paper ==> Paper win \\n Scissor Vs Paper ==> Scissor win \\n Scissor Vs Rock ==> Rock win\")\n",
    "print(\" Hint: (1:'Paper',2:'Rock',3:'Scissor')\")\n",
    "\n",
    "#create dict to convert choices\n",
    "\n",
    "choices_dict={1:\"Paper\",2:\"Rock\",3:\"Scissor\"}\n",
    "\n",
    "while True:\n",
    "  choice_user=int(input(\"Turn Your Number:\"))\n",
    "\n",
    "#choose valid number\n",
    "  while (choice_user > 3) or (choice_user < 1):\n",
    "    choice_user=int(input(\"Please Turn a Valid Number:\"))\n",
    "\n",
    "#choosen user and comp\n",
    "\n",
    "  choice_user_name = choices_dict[choice_user]\n",
    "  print(f\"You are Choosed : {choice_user_name}\")\n",
    "\n",
    "  com_choose=random.choice([1,2,3])\n",
    "  while com_choose == choice_user:\n",
    "    com_choose=random.choice([1,2,3])\n",
    "  choice_comp_name=choices_dict[com_choose]\n",
    "  print(f\"Computer is Choosed : {choice_comp_name}\")\n",
    " \n",
    "#logic game \n",
    "  if (choice_user==1 and com_choose==2) or (com_choose==1 and choice_user==2):\n",
    "    print(\"Paper is Win\")\n",
    "    Win_result = \"Paper\"\n",
    "  elif(choice_user==3 and com_choose==1) or (com_choose==3 and choice_user==1):\n",
    "    print(\"Scissor is Win\")  \n",
    "    Win_result = \"Scissor\"\n",
    "  else:\n",
    "    print(\"Rock is Win\")\n",
    "    Win_result = \"Rock\"\n",
    "\n",
    "  if Win_result == choice_user_name:\n",
    "    print(\" - User is Win - \")\n",
    "  else:\n",
    "    print(\" - Computer is Win - \")  \n",
    "\n",
    "  play_more =input(\"You want to play anothor more :(y/n)\")\n",
    "  if play_more==\"n\" or play_more==\"N\":\n",
    "    break"
   ]
  },
  {
   "cell_type": "code",
   "execution_count": null,
   "id": "98c7c00e",
   "metadata": {},
   "outputs": [],
   "source": []
  }
 ],
 "metadata": {
  "kernelspec": {
   "display_name": "Python 3 (ipykernel)",
   "language": "python",
   "name": "python3"
  },
  "language_info": {
   "codemirror_mode": {
    "name": "ipython",
    "version": 3
   },
   "file_extension": ".py",
   "mimetype": "text/x-python",
   "name": "python",
   "nbconvert_exporter": "python",
   "pygments_lexer": "ipython3",
   "version": "3.9.7"
  }
 },
 "nbformat": 4,
 "nbformat_minor": 5
}
