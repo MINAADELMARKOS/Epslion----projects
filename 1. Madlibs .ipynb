{
 "cells": [
  {
   "cell_type": "code",
   "execution_count": 1,
   "id": "ad81bcd2",
   "metadata": {},
   "outputs": [
    {
     "name": "stdout",
     "output_type": "stream",
     "text": [
      "subscribe to Mina\n",
      "subscribe to Mina\n",
      "subscribe to Mina\n"
     ]
    }
   ],
   "source": [
    "youtuper=\"Mina\"\n",
    "print(\"subscribe to \" + youtuper)\n",
    "print(\"subscribe to {}\".format(youtuper))\n",
    "print(f\"subscribe to {youtuper}\")"
   ]
  },
  {
   "cell_type": "code",
   "execution_count": null,
   "id": "e35ed1ac",
   "metadata": {},
   "outputs": [],
   "source": [
    "name = input(\"Please input your name :\")\n",
    "department=input(\"Please input your splization :\")\n",
    "adj= input(\"Love or Hate :\")\n",
    "doc_name= input(\"Please input Doctor Name :\")\n",
    "chartiesrs=input(\"Please input Doctor Charcter :\")\n",
    "opinion = f\"Hey, I'm {name} , \\n I'm {department} Engineer in Alex-university \\n When i was student i {adj} {doc_name} , \\n He is a {chartiesrs} and He very \" \n",
    "print(opinion)"
   ]
  },
  {
   "cell_type": "code",
   "execution_count": null,
   "id": "178f25f2",
   "metadata": {},
   "outputs": [],
   "source": []
  }
 ],
 "metadata": {
  "kernelspec": {
   "display_name": "Python 3 (ipykernel)",
   "language": "python",
   "name": "python3"
  },
  "language_info": {
   "codemirror_mode": {
    "name": "ipython",
    "version": 3
   },
   "file_extension": ".py",
   "mimetype": "text/x-python",
   "name": "python",
   "nbconvert_exporter": "python",
   "pygments_lexer": "ipython3",
   "version": "3.9.7"
  }
 },
 "nbformat": 4,
 "nbformat_minor": 5
}
